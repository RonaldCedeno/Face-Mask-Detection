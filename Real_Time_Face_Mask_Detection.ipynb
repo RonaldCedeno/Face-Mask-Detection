{
  "nbformat": 4,
  "nbformat_minor": 0,
  "metadata": {
    "colab": {
      "provenance": [],
      "authorship_tag": "ABX9TyOJ9JjaCFaN4ucc950N9SvX"
    },
    "kernelspec": {
      "name": "python3",
      "display_name": "Python 3"
    },
    "language_info": {
      "name": "python"
    }
  },
  "cells": [
    {
      "cell_type": "code",
      "source": [
        "import numpy as np\n",
        "import cvlib as cv\n",
        "import cv2\n",
        "from tensorflow.keras.applications.mobilenet_v2 import preprocess_input\n",
        "from tensorflow.keras.models import load_model"
      ],
      "metadata": {
        "id": "7PsdP8C6DEW0"
      },
      "execution_count": null,
      "outputs": []
    },
    {
      "cell_type": "code",
      "source": [
        "model = load_model('best_model.h5')"
      ],
      "metadata": {
        "id": "AyeMGo_VSoR4"
      },
      "execution_count": null,
      "outputs": []
    },
    {
      "cell_type": "code",
      "source": [
        "classes = ['Mask','No_Mask']"
      ],
      "metadata": {
        "id": "5aKFMyklS6L_"
      },
      "execution_count": null,
      "outputs": []
    },
    {
      "cell_type": "code",
      "source": [
        "# open webcam\n",
        "webcam = cv2.VideoCapture(0)\n",
        "\n",
        "# loop through frames\n",
        "while webcam.isOpened():\n",
        "  # read frame from webcam \n",
        "  status, frame = webcam.read()\n",
        "\n",
        "  # flip webcam\n",
        "  frame = cv2.flip(frame,1)\n",
        "\n",
        "  # apply face detection\n",
        "  face, confidence = cv.detect_face(frame)\n",
        "\n",
        "  # loop through detected faces\n",
        "  for idx, f in enumerate(face):\n",
        "\n",
        "      # get corner points of face rectangle        \n",
        "      (startX, startY) = f[0], f[1]\n",
        "      (endX, endY) = f[2], f[3]\n",
        "\n",
        "      # crop the detected face region\n",
        "      face_crop = np.copy(frame[startY:endY,startX:endX])\n",
        "      if (face_crop.shape[0]) < 10 or (face_crop.shape[1]) < 10:\n",
        "          continue\n",
        "\n",
        "      # preprocessing for mask detection model\n",
        "      face_crop = cv2.resize(face_crop, (224, 224))\n",
        "      face_crop = face_crop.astype(\"float\") / 255.0\n",
        "      face_crop = np.expand_dims(face_crop, axis=0)\n",
        "\n",
        "      # apply mask detection on face\n",
        "      conf = model.predict(face_crop, verbose=0) # PREDICTION\n",
        "      pred = np.where(conf>0.5, 1, 0)\n",
        "      pred = np.squeeze(pred, axis=1)\n",
        "\n",
        "      # determine the color we'll use to draw the rectangle\n",
        "      color = (0, 255, 0) if pred == 0 else (0, 0, 255)\n",
        "\n",
        "      # draw rectangle over face\n",
        "      cv2.rectangle(frame, (startX,startY), (endX,endY), color, 2)\n",
        "\n",
        "      # get label with max accuracy\n",
        "      label = classes[pred[0]]\n",
        "      conf_value = 1-conf[0][0] if pred==0 else conf[0][0]\n",
        "      label = \"{}: {:.2f}%\".format(label, conf_value * 100)\n",
        "\n",
        "      Y = startY - 10 if startY - 10 > 10 else startY + 10\n",
        "\n",
        "      # write label and confidence above face rectangle\n",
        "      cv2.putText(frame, label, (startX, Y),  cv2.FONT_HERSHEY_SIMPLEX,\n",
        "                  0.7, color, 2)\n",
        "\n",
        "  # display output\n",
        "  cv2.imshow(\"Mask Detection\", frame)\n",
        "\n",
        "  # press \"Q\" to stop\n",
        "  if cv2.waitKey(1) & 0xFF == ord('q'):\n",
        "      break\n",
        "\n",
        "# release resources\n",
        "webcam.release()\n",
        "cv2.destroyAllWindows()"
      ],
      "metadata": {
        "id": "vA7Yz12-SiLO"
      },
      "execution_count": null,
      "outputs": []
    },
    {
      "cell_type": "code",
      "source": [
        "# release resources\n",
        "webcam.release()\n",
        "cv2.destroyAllWindows()"
      ],
      "metadata": {
        "id": "NhYqWBAoIQKS"
      },
      "execution_count": null,
      "outputs": []
    }
  ]
}